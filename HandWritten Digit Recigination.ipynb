{
 "cells": [
  {
   "cell_type": "markdown",
   "id": "304264bb-85ef-4bd1-8716-e5c5d0a5bf33",
   "metadata": {},
   "source": [
    "# Screen Capture"
   ]
  },
  {
   "cell_type": "code",
   "execution_count": null,
   "id": "e07fb7a6-2934-4ec2-b5f6-bfe5221f8bc1",
   "metadata": {},
   "outputs": [],
   "source": [
    "#image capture\n",
    "#generate dataset and load it\n",
    "#fit the model using svc and calculate accuracy\n",
    "#pridction of image drawn in paint"
   ]
  },
  {
   "cell_type": "code",
   "execution_count": 93,
   "id": "552531db-396d-4f6f-b8b5-a9cc2cc0f239",
   "metadata": {},
   "outputs": [
    {
     "name": "stdout",
     "output_type": "stream",
     "text": [
      "Requirement already satisfied: pyscreenshot in c:\\users\\kiit\\anaconda3\\lib\\site-packages (3.1)\n",
      "Requirement already satisfied: EasyProcess in c:\\users\\kiit\\anaconda3\\lib\\site-packages (from pyscreenshot) (1.1)\n",
      "Requirement already satisfied: entrypoint2 in c:\\users\\kiit\\anaconda3\\lib\\site-packages (from pyscreenshot) (1.1)\n",
      "Requirement already satisfied: mss in c:\\users\\kiit\\anaconda3\\lib\\site-packages (from pyscreenshot) (10.0.0)\n"
     ]
    }
   ],
   "source": [
    "!pip install pyscreenshot"
   ]
  },
  {
   "cell_type": "code",
   "execution_count": 193,
   "id": "bfc40d38-292c-4687-adb5-24b5bcf38cd5",
   "metadata": {},
   "outputs": [],
   "source": [
    "import pyscreenshot as ImageGrab\n",
    "import time"
   ]
  },
  {
   "cell_type": "code",
   "execution_count": 194,
   "id": "7111987e-b325-4b3d-ab24-5099e8ae54d8",
   "metadata": {},
   "outputs": [
    {
     "name": "stdout",
     "output_type": "stream",
     "text": [
      "Saved.... 0\n",
      "Clear the screen now and redraw now....\n",
      "Saved.... 1\n",
      "Clear the screen now and redraw now....\n",
      "Saved.... 2\n",
      "Clear the screen now and redraw now....\n",
      "Saved.... 3\n",
      "Clear the screen now and redraw now....\n",
      "Saved.... 4\n",
      "Clear the screen now and redraw now....\n"
     ]
    }
   ],
   "source": [
    "import time\n",
    "import pyscreenshot as ImageGrab\n",
    "images_folder = \"Capture_Image/0/\"\n",
    "if not images_folder.endswith('/'):\n",
    "    images_folder += '/'\n",
    "\n",
    "for i in range(5):\n",
    "    time.sleep(8)\n",
    "    im = ImageGrab.grab(bbox=(60, 170, 400, 550))  # (x1, y1, x2, y2) region to capture\n",
    "    print(\"Saved....\", i)\n",
    "    \n",
    "    # Save the captured image\n",
    "    im.save(images_folder + str(i) + '.png')\n",
    "    \n",
    "    print(\"Clear the screen now and redraw now....\")\n"
   ]
  },
  {
   "cell_type": "markdown",
   "id": "941b8147-6888-49c0-92e8-7be9e85f66a2",
   "metadata": {},
   "source": [
    "# Generate dataset"
   ]
  },
  {
   "cell_type": "code",
   "execution_count": 96,
   "id": "9efe155d-577a-44cf-abce-e7c376cda380",
   "metadata": {},
   "outputs": [
    {
     "name": "stdout",
     "output_type": "stream",
     "text": [
      "Requirement already satisfied: opencv-python in c:\\users\\kiit\\anaconda3\\lib\\site-packages (4.11.0.86)\n",
      "Requirement already satisfied: numpy>=1.21.2 in c:\\users\\kiit\\anaconda3\\lib\\site-packages (from opencv-python) (1.26.4)\n"
     ]
    }
   ],
   "source": [
    "!pip install opencv-python"
   ]
  },
  {
   "cell_type": "code",
   "execution_count": 5,
   "id": "f3e21fb5-89b7-403c-9777-85ec63eae3f5",
   "metadata": {},
   "outputs": [],
   "source": [
    "import cv2\n",
    "import csv\n",
    "import glob\n",
    "  \n",
    "header  =[\"label\"]\n",
    "for i in range(0,784):\n",
    "   header.append(\"pixel\"+str(i))\n",
    "with open('dataset.csv', 'a') as f:\n",
    "   writer = csv.writer(f)\n",
    "   writer.writerow(header)\n",
    "    \n",
    "for label in range(10):\n",
    "   dirList = glob.glob(\"captured_images/\"+str(label)+\"/*.png\")\n",
    "    \n",
    "   for img_path in dirList:\n",
    "       im= cv2.imread(img_path)\n",
    "       im_gray = cv2.cvtColor(im,cv2.COLOR_BGR2GRAY)\n",
    "       im_gray = cv2.GaussianBlur(im_gray,(15,15), 0)\n",
    "       roi= cv2.resize(im_gray,(28,28), interpolation=cv2.INTER_AREA)\n",
    "        \n",
    "       data=[]\n",
    "       data.append(label)\n",
    "       rows, cols = roi.shape\n",
    "        \n",
    "       ## Fill the data array with pixels one by one.\n",
    "       for i in range(rows):\n",
    "           for j in range(cols):\n",
    "               k =roi[i,j]\n",
    "               if k>100:\n",
    "                   k=1\n",
    "               else:\n",
    "                   k=0\n",
    "               data.append(k)\n",
    "       with open('dataset.csv', 'a') as f:\n",
    "           writer = csv.writer(f)\n",
    "           writer.writerow(data)"
   ]
  },
  {
   "cell_type": "code",
   "execution_count": 195,
   "id": "67ce51d4-d710-4c31-814c-f276d18aff18",
   "metadata": {},
   "outputs": [
    {
     "name": "stdout",
     "output_type": "stream",
     "text": [
      "     label  pixel0  pixel1  pixel2  pixel3  pixel4  pixel5  pixel6  pixel7  \\\n",
      "919      0       0       0       0       0       0       0       0       0   \n",
      "702      0       0       0       0       0       0       0       0       0   \n",
      "53       0       0       0       0       0       0       0       0       0   \n",
      "683      0       0       0       0       0       0       0       0       0   \n",
      "153      0       0       0       0       0       0       0       0       0   \n",
      "..     ...     ...     ...     ...     ...     ...     ...     ...     ...   \n",
      "72       0       0       0       0       0       0       0       0       0   \n",
      "121      0       0       0       0       0       0       0       0       0   \n",
      "734      0       0       0       0       0       0       0       0       0   \n",
      "720      0       0       0       0       0       0       0       0       0   \n",
      "323      0       0       0       0       0       0       0       0       0   \n",
      "\n",
      "     pixel8  ...  pixel774  pixel775  pixel776  pixel777  pixel778  pixel779  \\\n",
      "919       0  ...         0         0         0         0         0         0   \n",
      "702       0  ...         0         0         0         0         0         0   \n",
      "53        0  ...         0         0         0         0         0         0   \n",
      "683       0  ...         0         0         0         0         0         0   \n",
      "153       0  ...         0         0         0         0         0         0   \n",
      "..      ...  ...       ...       ...       ...       ...       ...       ...   \n",
      "72        0  ...         0         0         0         0         0         0   \n",
      "121       0  ...         0         0         0         0         0         0   \n",
      "734       0  ...         0         0         0         0         0         0   \n",
      "720       0  ...         0         0         0         0         0         0   \n",
      "323       0  ...         0         0         0         0         0         0   \n",
      "\n",
      "     pixel780  pixel781  pixel782  pixel783  \n",
      "919         0         0         0         0  \n",
      "702         0         0         0         0  \n",
      "53          0         0         0         0  \n",
      "683         0         0         0         0  \n",
      "153         0         0         0         0  \n",
      "..        ...       ...       ...       ...  \n",
      "72          0         0         0         0  \n",
      "121         0         0         0         0  \n",
      "734         0         0         0         0  \n",
      "720         0         0         0         0  \n",
      "323         0         0         0         0  \n",
      "\n",
      "[999 rows x 785 columns]\n"
     ]
    }
   ],
   "source": [
    "## import pandas as pd #pip install pandas\n",
    "from sklearn.utils import shuffle #pip install scikit-learn\n",
    "#0,....,1.....,2.....\n",
    "#5,3,1,0,2,5,.......\n",
    " \n",
    "data = pd.read_csv('dataset.csv')\n",
    "data = shuffle(data)\n",
    "print(data)"
   ]
  },
  {
   "cell_type": "markdown",
   "id": "4e58c5c6-f9e6-4bda-9a1b-7dbbd7cf1cef",
   "metadata": {},
   "source": [
    "# Load the dataset"
   ]
  },
  {
   "cell_type": "code",
   "execution_count": 196,
   "id": "1f7a373f-eff7-454a-8234-935f46b641bd",
   "metadata": {},
   "outputs": [
    {
     "name": "stdout",
     "output_type": "stream",
     "text": [
      "Requirement already satisfied: matplotlib in c:\\users\\kiit\\anaconda3\\lib\\site-packages (3.9.2)\n",
      "Requirement already satisfied: contourpy>=1.0.1 in c:\\users\\kiit\\anaconda3\\lib\\site-packages (from matplotlib) (1.2.0)\n",
      "Requirement already satisfied: cycler>=0.10 in c:\\users\\kiit\\anaconda3\\lib\\site-packages (from matplotlib) (0.11.0)\n",
      "Requirement already satisfied: fonttools>=4.22.0 in c:\\users\\kiit\\anaconda3\\lib\\site-packages (from matplotlib) (4.51.0)\n",
      "Requirement already satisfied: kiwisolver>=1.3.1 in c:\\users\\kiit\\anaconda3\\lib\\site-packages (from matplotlib) (1.4.4)\n",
      "Requirement already satisfied: numpy>=1.23 in c:\\users\\kiit\\anaconda3\\lib\\site-packages (from matplotlib) (1.26.4)\n",
      "Requirement already satisfied: packaging>=20.0 in c:\\users\\kiit\\anaconda3\\lib\\site-packages (from matplotlib) (24.1)\n",
      "Requirement already satisfied: pillow>=8 in c:\\users\\kiit\\anaconda3\\lib\\site-packages (from matplotlib) (10.4.0)\n",
      "Requirement already satisfied: pyparsing>=2.3.1 in c:\\users\\kiit\\anaconda3\\lib\\site-packages (from matplotlib) (3.1.2)\n",
      "Requirement already satisfied: python-dateutil>=2.7 in c:\\users\\kiit\\anaconda3\\lib\\site-packages (from matplotlib) (2.9.0.post0)\n",
      "Requirement already satisfied: six>=1.5 in c:\\users\\kiit\\anaconda3\\lib\\site-packages (from python-dateutil>=2.7->matplotlib) (1.16.0)\n",
      "Note: you may need to restart the kernel to use updated packages.\n"
     ]
    }
   ],
   "source": [
    "pip install matplotlib\n"
   ]
  },
  {
   "cell_type": "code",
   "execution_count": 197,
   "id": "19178574-b370-40a1-86a0-4b44b0233a24",
   "metadata": {},
   "outputs": [
    {
     "name": "stdout",
     "output_type": "stream",
     "text": [
      "Requirement already satisfied: joblib in c:\\users\\kiit\\anaconda3\\lib\\site-packages (1.4.2)\n",
      "Note: you may need to restart the kernel to use updated packages.\n"
     ]
    }
   ],
   "source": [
    "pip install joblib"
   ]
  },
  {
   "cell_type": "code",
   "execution_count": 198,
   "id": "341f7ae7-630f-409b-a0ee-48aa256d2ddc",
   "metadata": {},
   "outputs": [
    {
     "name": "stdout",
     "output_type": "stream",
     "text": [
      "Requirement already satisfied: pandas in c:\\users\\kiit\\anaconda3\\lib\\site-packages (2.2.2)\n",
      "Requirement already satisfied: numpy>=1.26.0 in c:\\users\\kiit\\anaconda3\\lib\\site-packages (from pandas) (1.26.4)\n",
      "Requirement already satisfied: python-dateutil>=2.8.2 in c:\\users\\kiit\\anaconda3\\lib\\site-packages (from pandas) (2.9.0.post0)\n",
      "Requirement already satisfied: pytz>=2020.1 in c:\\users\\kiit\\anaconda3\\lib\\site-packages (from pandas) (2024.1)\n",
      "Requirement already satisfied: tzdata>=2022.7 in c:\\users\\kiit\\anaconda3\\lib\\site-packages (from pandas) (2023.3)\n",
      "Requirement already satisfied: six>=1.5 in c:\\users\\kiit\\anaconda3\\lib\\site-packages (from python-dateutil>=2.8.2->pandas) (1.16.0)\n",
      "Note: you may need to restart the kernel to use updated packages.\n"
     ]
    }
   ],
   "source": [
    "pip install pandas"
   ]
  },
  {
   "cell_type": "code",
   "execution_count": 199,
   "id": "74d69a5e-2b38-4929-928c-54d8e7398977",
   "metadata": {},
   "outputs": [
    {
     "name": "stdout",
     "output_type": "stream",
     "text": [
      "Requirement already satisfied: scikit-learn in c:\\users\\kiit\\anaconda3\\lib\\site-packages (1.5.1)Note: you may need to restart the kernel to use updated packages.\n",
      "\n",
      "Requirement already satisfied: numpy>=1.19.5 in c:\\users\\kiit\\anaconda3\\lib\\site-packages (from scikit-learn) (1.26.4)\n",
      "Requirement already satisfied: scipy>=1.6.0 in c:\\users\\kiit\\anaconda3\\lib\\site-packages (from scikit-learn) (1.13.1)\n",
      "Requirement already satisfied: joblib>=1.2.0 in c:\\users\\kiit\\anaconda3\\lib\\site-packages (from scikit-learn) (1.4.2)\n",
      "Requirement already satisfied: threadpoolctl>=3.1.0 in c:\\users\\kiit\\anaconda3\\lib\\site-packages (from scikit-learn) (3.5.0)\n"
     ]
    }
   ],
   "source": [
    "pip install scikit-learn"
   ]
  },
  {
   "cell_type": "markdown",
   "id": "871ee070-3f2e-4797-b92d-50dfe8dd684a",
   "metadata": {},
   "source": [
    "# Seperation of indenpendent and independent variable"
   ]
  },
  {
   "cell_type": "code",
   "execution_count": 200,
   "id": "6bfd85c9-2df9-4b91-b2d6-9fb07592a726",
   "metadata": {},
   "outputs": [],
   "source": [
    "X = data.drop([\"label\"],axis=1)\n",
    "Y = data[\"label\"]"
   ]
  },
  {
   "cell_type": "code",
   "execution_count": 201,
   "id": "4781e639-b3b1-4192-8e6a-576e32cc4eec",
   "metadata": {},
   "outputs": [
    {
     "name": "stdout",
     "output_type": "stream",
     "text": [
      "Requirement already satisfied: pandas in c:\\users\\kiit\\anaconda3\\lib\\site-packages (2.2.2)\n",
      "Requirement already satisfied: numpy>=1.26.0 in c:\\users\\kiit\\anaconda3\\lib\\site-packages (from pandas) (1.26.4)\n",
      "Requirement already satisfied: python-dateutil>=2.8.2 in c:\\users\\kiit\\anaconda3\\lib\\site-packages (from pandas) (2.9.0.post0)\n",
      "Requirement already satisfied: pytz>=2020.1 in c:\\users\\kiit\\anaconda3\\lib\\site-packages (from pandas) (2024.1)\n",
      "Requirement already satisfied: tzdata>=2022.7 in c:\\users\\kiit\\anaconda3\\lib\\site-packages (from pandas) (2023.3)\n",
      "Requirement already satisfied: six>=1.5 in c:\\users\\kiit\\anaconda3\\lib\\site-packages (from python-dateutil>=2.8.2->pandas) (1.16.0)\n"
     ]
    }
   ],
   "source": [
    "!pip install pandas\n"
   ]
  },
  {
   "cell_type": "markdown",
   "id": "ab5bb4b2-d6fc-4857-85ad-88d7de2be5e7",
   "metadata": {},
   "source": [
    "# preview of one image using matplotlib"
   ]
  },
  {
   "cell_type": "code",
   "execution_count": 202,
   "id": "8428cd6f-b41b-4863-a4bb-975daf735d1b",
   "metadata": {},
   "outputs": [
    {
     "name": "stdout",
     "output_type": "stream",
     "text": [
      "     label  pixel0  pixel1  pixel2  pixel3  pixel4  pixel5  pixel6  pixel7  \\\n",
      "816      0       0       0       0       0       0       0       0       0   \n",
      "382      0       0       0       0       0       0       0       0       0   \n",
      "970      0       0       0       0       0       0       0       0       0   \n",
      "202      0       0       0       0       0       0       0       0       0   \n",
      "430      0       0       0       0       0       0       0       0       0   \n",
      "\n",
      "     pixel8  ...  pixel774  pixel775  pixel776  pixel777  pixel778  pixel779  \\\n",
      "816       0  ...         0         0         0         0         0         0   \n",
      "382       0  ...         0         0         0         0         0         0   \n",
      "970       0  ...         0         0         0         0         0         0   \n",
      "202       0  ...         0         0         0         0         0         0   \n",
      "430       0  ...         0         0         0         0         0         0   \n",
      "\n",
      "     pixel780  pixel781  pixel782  pixel783  \n",
      "816         0         0         0         0  \n",
      "382         0         0         0         0  \n",
      "970         0         0         0         0  \n",
      "202         0         0         0         0  \n",
      "430         0         0         0         0  \n",
      "\n",
      "[5 rows x 785 columns]\n"
     ]
    }
   ],
   "source": [
    "from sklearn.utils import shuffle\n",
    "\n",
    "# Load dataset\n",
    "data = pd.read_csv('dataset.csv')\n",
    "data = shuffle(data)\n",
    "\n",
    "# Verify non-zero values\n",
    "print(data.head())\n"
   ]
  },
  {
   "cell_type": "code",
   "execution_count": 203,
   "id": "c01bbe11-9761-405f-b2dd-02b44a402719",
   "metadata": {},
   "outputs": [],
   "source": [
    "# Separate features and labels\n",
    "X = data.drop(columns=[\"label\"])\n",
    "Y = data[\"label\"]\n",
    "\n"
   ]
  },
  {
   "cell_type": "code",
   "execution_count": 2,
   "id": "c12e7fec-b0bc-458a-90fc-65b37acdf5a7",
   "metadata": {},
   "outputs": [
    {
     "ename": "NameError",
     "evalue": "name 'X' is not defined",
     "output_type": "error",
     "traceback": [
      "\u001b[1;31m---------------------------------------------------------------------------\u001b[0m",
      "\u001b[1;31mNameError\u001b[0m                                 Traceback (most recent call last)",
      "Cell \u001b[1;32mIn[2], line 8\u001b[0m\n\u001b[0;32m      5\u001b[0m idx \u001b[38;5;241m=\u001b[39m \u001b[38;5;241m365\u001b[39m\n\u001b[0;32m      7\u001b[0m \u001b[38;5;66;03m# Convert data to integers before reshaping\u001b[39;00m\n\u001b[1;32m----> 8\u001b[0m img_data \u001b[38;5;241m=\u001b[39m X\u001b[38;5;241m.\u001b[39mloc[idx]\u001b[38;5;241m.\u001b[39mastype(\u001b[38;5;28mint\u001b[39m)\u001b[38;5;241m.\u001b[39mvalues  \u001b[38;5;66;03m# Convert to integers\u001b[39;00m\n\u001b[0;32m      9\u001b[0m img \u001b[38;5;241m=\u001b[39m img_data\u001b[38;5;241m.\u001b[39mreshape(\u001b[38;5;241m28\u001b[39m, \u001b[38;5;241m28\u001b[39m)  \u001b[38;5;66;03m# Reshape to 28x28\u001b[39;00m\n\u001b[0;32m     11\u001b[0m \u001b[38;5;66;03m# Display the label and image\u001b[39;00m\n",
      "\u001b[1;31mNameError\u001b[0m: name 'X' is not defined"
     ]
    }
   ],
   "source": [
    "%matplotlib inline\n",
    "import matplotlib.pyplot as plt\n",
    "\n",
    "# Ensure idx matches your dataset\n",
    "idx = 365\n",
    "\n",
    "# Convert data to integers before reshaping\n",
    "img_data = X.loc[idx].astype(int).values  # Convert to integers\n",
    "img = img_data.reshape(28, 28)  # Reshape to 28x28\n",
    "\n",
    "# Display the label and image\n",
    "print({Y.loc[idx]})\n",
    "\n",
    "plt.imshow(img, cmap='gray')  # Use grayscale colormap\n",
    "plt.title({Y.loc[idx]})  # Display the label in the title\n",
    "# plt.axis(\"off\")  # Hide axis for better visualization\n",
    "plt.show()  # Display the image\n"
   ]
  },
  {
   "cell_type": "code",
   "execution_count": 147,
   "id": "ce0c3633-da19-4811-8aef-808f7a926838",
   "metadata": {},
   "outputs": [
    {
     "name": "stdout",
     "output_type": "stream",
     "text": [
      "Requirement already satisfied: scikit-learn in c:\\users\\kiit\\anaconda3\\lib\\site-packages (1.5.1)\n",
      "Requirement already satisfied: numpy>=1.19.5 in c:\\users\\kiit\\anaconda3\\lib\\site-packages (from scikit-learn) (1.26.4)\n",
      "Requirement already satisfied: scipy>=1.6.0 in c:\\users\\kiit\\anaconda3\\lib\\site-packages (from scikit-learn) (1.13.1)\n",
      "Requirement already satisfied: joblib>=1.2.0 in c:\\users\\kiit\\anaconda3\\lib\\site-packages (from scikit-learn) (1.4.2)\n",
      "Requirement already satisfied: threadpoolctl>=3.1.0 in c:\\users\\kiit\\anaconda3\\lib\\site-packages (from scikit-learn) (3.5.0)\n"
     ]
    }
   ],
   "source": [
    "!pip install scikit-learn\n"
   ]
  },
  {
   "cell_type": "code",
   "execution_count": 148,
   "id": "b004def1-a1b7-4886-ba0c-c5e6636e7cf0",
   "metadata": {},
   "outputs": [
    {
     "name": "stdout",
     "output_type": "stream",
     "text": [
      "Requirement already satisfied: scikit-learn in c:\\users\\kiit\\anaconda3\\lib\\site-packages (1.5.1)\n",
      "Requirement already satisfied: numpy>=1.19.5 in c:\\users\\kiit\\anaconda3\\lib\\site-packages (from scikit-learn) (1.26.4)\n",
      "Requirement already satisfied: scipy>=1.6.0 in c:\\users\\kiit\\anaconda3\\lib\\site-packages (from scikit-learn) (1.13.1)\n",
      "Requirement already satisfied: joblib>=1.2.0 in c:\\users\\kiit\\anaconda3\\lib\\site-packages (from scikit-learn) (1.4.2)\n",
      "Requirement already satisfied: threadpoolctl>=3.1.0 in c:\\users\\kiit\\anaconda3\\lib\\site-packages (from scikit-learn) (3.5.0)\n"
     ]
    }
   ],
   "source": [
    "!pip install scikit-learn"
   ]
  },
  {
   "cell_type": "markdown",
   "id": "8f182e60-33ef-4a87-9d26-60590c560658",
   "metadata": {},
   "source": [
    "# Train-test split   "
   ]
  },
  {
   "cell_type": "code",
   "execution_count": 205,
   "id": "c984c94c-1072-4630-93fb-8139b766b300",
   "metadata": {},
   "outputs": [],
   "source": [
    "from sklearn.model_selection import train_test_split\n",
    "train_x,test_x,train_y,test_y = train_test_split(X,Y,test_size=0.2)"
   ]
  },
  {
   "cell_type": "markdown",
   "id": "d202641c-e655-431d-816f-96085451864b",
   "metadata": {
    "jp-MarkdownHeadingCollapsed": true
   },
   "source": [
    "# Fit the model using svc and also to save the model using joblib"
   ]
  },
  {
   "cell_type": "markdown",
   "id": "40978893-87d4-4e38-ac4e-b04c39494e02",
   "metadata": {},
   "source": [
    "# prediction of image drawn in paint"
   ]
  },
  {
   "cell_type": "code",
   "execution_count": 206,
   "id": "45ae5352-92c6-41e9-a039-fe35a1aa8fe1",
   "metadata": {},
   "outputs": [
    {
     "name": "stdout",
     "output_type": "stream",
     "text": [
      "Requirement already satisfied: numpy in c:\\users\\kiit\\anaconda3\\lib\\site-packages (1.26.4)\n",
      "Note: you may need to restart the kernel to use updated packages.\n"
     ]
    }
   ],
   "source": [
    "pip install numpy"
   ]
  },
  {
   "cell_type": "code",
   "execution_count": 3,
   "id": "11cdddde-03d5-4c86-bb06-6630a7eb4019",
   "metadata": {},
   "outputs": [
    {
     "ename": "NameError",
     "evalue": "name 'train_y' is not defined",
     "output_type": "error",
     "traceback": [
      "\u001b[1;31m---------------------------------------------------------------------------\u001b[0m",
      "\u001b[1;31mNameError\u001b[0m                                 Traceback (most recent call last)",
      "Cell \u001b[1;32mIn[3], line 3\u001b[0m\n\u001b[0;32m      1\u001b[0m \u001b[38;5;28;01mimport\u001b[39;00m \u001b[38;5;21;01mnumpy\u001b[39;00m \u001b[38;5;28;01mas\u001b[39;00m \u001b[38;5;21;01mnp\u001b[39;00m\n\u001b[1;32m----> 3\u001b[0m unique_classes \u001b[38;5;241m=\u001b[39m np\u001b[38;5;241m.\u001b[39munique(train_y)\n\u001b[0;32m      4\u001b[0m \u001b[38;5;28mprint\u001b[39m(\u001b[38;5;124m\"\u001b[39m\u001b[38;5;124mUnique classes in train_y:\u001b[39m\u001b[38;5;124m\"\u001b[39m, unique_classes)\n",
      "\u001b[1;31mNameError\u001b[0m: name 'train_y' is not defined"
     ]
    }
   ],
   "source": [
    "import numpy as np\n",
    "\n",
    "unique_classes = np.unique(train_y)\n",
    "print(\"Unique classes in train_y:\", unique_classes)\n"
   ]
  },
  {
   "cell_type": "code",
   "execution_count": 4,
   "id": "bfadcd3d-d1b2-46f9-bbc2-799bbf27b675",
   "metadata": {},
   "outputs": [
    {
     "ename": "NameError",
     "evalue": "name 'train_y' is not defined",
     "output_type": "error",
     "traceback": [
      "\u001b[1;31m---------------------------------------------------------------------------\u001b[0m",
      "\u001b[1;31mNameError\u001b[0m                                 Traceback (most recent call last)",
      "Cell \u001b[1;32mIn[4], line 1\u001b[0m\n\u001b[1;32m----> 1\u001b[0m train_y \u001b[38;5;241m=\u001b[39m train_y\u001b[38;5;241m.\u001b[39mreset_index(drop\u001b[38;5;241m=\u001b[39m\u001b[38;5;28;01mTrue\u001b[39;00m)\n",
      "\u001b[1;31mNameError\u001b[0m: name 'train_y' is not defined"
     ]
    }
   ],
   "source": [
    "train_y = train_y.reset_index(drop=True)"
   ]
  },
  {
   "cell_type": "code",
   "execution_count": null,
   "id": "d7e675be-568f-4e14-9fb7-7c0e9ae456f9",
   "metadata": {},
   "outputs": [],
   "source": []
  }
 ],
 "metadata": {
  "kernelspec": {
   "display_name": "Python 3 (ipykernel)",
   "language": "python",
   "name": "python3"
  },
  "language_info": {
   "codemirror_mode": {
    "name": "ipython",
    "version": 3
   },
   "file_extension": ".py",
   "mimetype": "text/x-python",
   "name": "python",
   "nbconvert_exporter": "python",
   "pygments_lexer": "ipython3",
   "version": "3.12.7"
  }
 },
 "nbformat": 4,
 "nbformat_minor": 5
}
